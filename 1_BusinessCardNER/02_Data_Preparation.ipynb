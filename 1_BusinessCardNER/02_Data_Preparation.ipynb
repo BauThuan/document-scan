{
 "cells": [
  {
   "cell_type": "code",
   "execution_count": 1,
   "id": "72b1fc9e-4e17-4e32-a2ed-73b085849af6",
   "metadata": {},
   "outputs": [],
   "source": [
    "import numpy as np\n",
    "import pandas as pd\n",
    "import cv2\n",
    "import pytesseract\n",
    "\n",
    "import os\n",
    "from glob import glob\n",
    "from tqdm import tqdm\n",
    "\n",
    "import warnings\n",
    "warnings.filterwarnings('ignore')"
   ]
  },
  {
   "cell_type": "code",
   "execution_count": 2,
   "id": "b8a0f6cb-289d-41a5-8eab-887c46e69e7d",
   "metadata": {},
   "outputs": [],
   "source": [
    "imgPaths = glob('./Selected_1/*.jpeg')"
   ]
  },
  {
   "cell_type": "code",
   "execution_count": 3,
   "id": "c20b1332-db65-43d3-9c91-d425a7ac926a",
   "metadata": {},
   "outputs": [
    {
     "name": "stderr",
     "output_type": "stream",
     "text": [
      "BusinessCard: 100%|██████████████████████████████████████████████████████████████████| 109/109 [02:03<00:00,  1.13s/it]\n"
     ]
    }
   ],
   "source": [
    "allBusinessCard = pd.DataFrame(columns=['id','text'])\n",
    "\n",
    "for imgPath in  tqdm(imgPaths,desc='BusinessCard'):\n",
    "    \n",
    "    #imgPath = imgPaths[0]\n",
    "    _, filename = os.path.split(imgPath)\n",
    "    # extract data and text \n",
    "    image = cv2.imread(imgPath)\n",
    "    data = pytesseract.image_to_data(image, lang='vie')\n",
    "    dataList = list(map(lambda x: x.split('\\t'),data.split('\\n')))\n",
    "    df = pd.DataFrame(dataList[1:],columns=dataList[0])\n",
    "    df.dropna(inplace=True)\n",
    "    df['conf'] = df['conf'].astype(int)\n",
    "\n",
    "    useFulData = df.query('conf >= 30')\n",
    "\n",
    "    # Dataframe\n",
    "    businessCard = pd.DataFrame()\n",
    "    businessCard['text'] = useFulData['text']\n",
    "    businessCard['id'] = filename\n",
    "    \n",
    "    # concatenation\n",
    "    allBusinessCard = pd.concat((allBusinessCard,businessCard))"
   ]
  },
  {
   "cell_type": "code",
   "execution_count": 6,
   "id": "78c62d32-ba0e-4e6c-bab9-1008f22695d8",
   "metadata": {},
   "outputs": [],
   "source": [
    "allBusinessCard.to_csv('business_card_data_vie.csv', index=False, encoding='utf-8-sig')"
   ]
  },
  {
   "cell_type": "code",
   "execution_count": 8,
   "id": "8aa2b50e-4bb9-4799-be1f-80627cddb843",
   "metadata": {},
   "outputs": [],
   "source": [
    "# allBusinessCard.to_csv('businessCard.csv',index=False)"
   ]
  },
  {
   "cell_type": "code",
   "execution_count": null,
   "id": "985cb9f6-b1a5-4dee-aef6-0971615d9021",
   "metadata": {},
   "outputs": [],
   "source": []
  }
 ],
 "metadata": {
  "kernelspec": {
   "display_name": "Python 3 (ipykernel)",
   "language": "python",
   "name": "python3"
  },
  "language_info": {
   "codemirror_mode": {
    "name": "ipython",
    "version": 3
   },
   "file_extension": ".py",
   "mimetype": "text/x-python",
   "name": "python",
   "nbconvert_exporter": "python",
   "pygments_lexer": "ipython3",
   "version": "3.9.6"
  }
 },
 "nbformat": 4,
 "nbformat_minor": 5
}
