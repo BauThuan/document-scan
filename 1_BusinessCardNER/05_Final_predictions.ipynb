{
 "cells": [
  {
   "cell_type": "code",
   "execution_count": 19,
   "id": "df9da729-fcb9-45a0-b852-09cfdd677601",
   "metadata": {},
   "outputs": [],
   "source": [
    "import cv2\n",
    "import predictions as pred"
   ]
  },
  {
   "cell_type": "code",
   "execution_count": 20,
   "id": "e9888441-af64-469d-b1a0-6483292e37fb",
   "metadata": {},
   "outputs": [],
   "source": [
    "img = cv2.imread('./Selected_Vie/078.jpeg')\n",
    "img_gray = cv2.cvtColor(img, cv2.COLOR_BGR2GRAY)\n",
    "# cv2.namedWindow('original', cv2.WINDOW_NORMAL)\n",
    "# cv2.imshow('original', img)\n",
    "# cv2.waitKey(0)\n",
    "# cv2.destroyAllWindows()"
   ]
  },
  {
   "cell_type": "code",
   "execution_count": null,
   "id": "95d0fd1c-2571-470a-a36c-72898df01594",
   "metadata": {},
   "outputs": [
    {
     "name": "stdout",
     "output_type": "stream",
     "text": [
      "{'text': 'bệnh viên bạch mai ths.bsnt phan_hoàng giang chuyên khoa chân đoán hình ảnh khoa chẩn đoán hình ảnh email phanhoanggiangcdhagmail.com. bệnh viện bạch mai đt 0986223998 www.bmirvn', 'ents': [{'start': 0, 'end': 4, 'label': 'B-ORG'}, {'start': 5, 'end': 9, 'label': 'I-ORG'}, {'start': 10, 'end': 14, 'label': 'I-ORG'}, {'start': 15, 'end': 18, 'label': 'I-ORG'}, {'start': 19, 'end': 27, 'label': 'B-DES'}, {'start': 28, 'end': 38, 'label': 'B-NAME'}, {'start': 39, 'end': 44, 'label': 'I-NAME'}, {'start': 45, 'end': 51, 'label': 'B-DES'}, {'start': 52, 'end': 56, 'label': 'I-DES'}, {'start': 57, 'end': 61, 'label': 'I-DES'}, {'start': 62, 'end': 66, 'label': 'I-DES'}, {'start': 67, 'end': 71, 'label': 'I-DES'}, {'start': 72, 'end': 75, 'label': 'I-DES'}, {'start': 76, 'end': 80, 'label': 'I-DES'}, {'start': 81, 'end': 85, 'label': 'I-DES'}, {'start': 86, 'end': 90, 'label': 'I-DES'}, {'start': 91, 'end': 95, 'label': 'I-DES'}, {'start': 96, 'end': 99, 'label': 'I-DES'}, {'start': 106, 'end': 139, 'label': 'B-DES'}, {'start': 140, 'end': 144, 'label': 'I-ORG'}, {'start': 145, 'end': 149, 'label': 'I-DES'}, {'start': 150, 'end': 153, 'label': 'I-DES'}, {'start': 157, 'end': 167, 'label': 'B-PHONE'}, {'start': 168, 'end': 178, 'label': 'B-WEB'}], 'tokens': [{'id': 0, 'start': 0, 'end': 4}, {'id': 1, 'start': 5, 'end': 9}, {'id': 2, 'start': 10, 'end': 14}, {'id': 3, 'start': 15, 'end': 18}, {'id': 4, 'start': 19, 'end': 27}, {'id': 5, 'start': 28, 'end': 38}, {'id': 6, 'start': 39, 'end': 44}, {'id': 7, 'start': 45, 'end': 51}, {'id': 8, 'start': 52, 'end': 56}, {'id': 9, 'start': 57, 'end': 61}, {'id': 10, 'start': 62, 'end': 66}, {'id': 11, 'start': 67, 'end': 71}, {'id': 12, 'start': 72, 'end': 75}, {'id': 13, 'start': 76, 'end': 80}, {'id': 14, 'start': 81, 'end': 85}, {'id': 15, 'start': 86, 'end': 90}, {'id': 16, 'start': 91, 'end': 95}, {'id': 17, 'start': 96, 'end': 99}, {'id': 18, 'start': 100, 'end': 105}, {'id': 19, 'start': 106, 'end': 133}, {'id': 20, 'start': 133, 'end': 134}, {'id': 21, 'start': 135, 'end': 139}, {'id': 22, 'start': 140, 'end': 144}, {'id': 23, 'start': 145, 'end': 149}, {'id': 24, 'start': 150, 'end': 153}, {'id': 25, 'start': 154, 'end': 156}, {'id': 26, 'start': 157, 'end': 167}, {'id': 27, 'start': 168, 'end': 178}]}\n"
     ]
    }
   ],
   "source": [
    "img_results, entities = pred.getPredictions(img)\n",
    "cv2.namedWindow('predictions', cv2.WINDOW_NORMAL)\n",
    "cv2.imshow('predictions', img_results)\n",
    "cv2.waitKey(0)\n",
    "cv2.destroyAllWindows()"
   ]
  },
  {
   "cell_type": "code",
   "execution_count": null,
   "id": "c557cb52-0d1f-48fd-a8fb-4e18d80dc7b5",
   "metadata": {},
   "outputs": [],
   "source": []
  }
 ],
 "metadata": {
  "kernelspec": {
   "display_name": "Python 3 (ipykernel)",
   "language": "python",
   "name": "python3"
  },
  "language_info": {
   "codemirror_mode": {
    "name": "ipython",
    "version": 3
   },
   "file_extension": ".py",
   "mimetype": "text/x-python",
   "name": "python",
   "nbconvert_exporter": "python",
   "pygments_lexer": "ipython3",
   "version": "3.9.6"
  }
 },
 "nbformat": 4,
 "nbformat_minor": 5
}
