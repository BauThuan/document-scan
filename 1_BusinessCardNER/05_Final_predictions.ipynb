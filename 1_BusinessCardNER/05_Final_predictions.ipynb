{
 "cells": [
  {
   "cell_type": "code",
   "execution_count": 1,
   "id": "df9da729-fcb9-45a0-b852-09cfdd677601",
   "metadata": {},
   "outputs": [],
   "source": [
    "import cv2\n",
    "import predictions as pred"
   ]
  },
  {
   "cell_type": "code",
   "execution_count": 2,
   "id": "e9888441-af64-469d-b1a0-6483292e37fb",
   "metadata": {},
   "outputs": [],
   "source": [
    "img = cv2.imread('./Selected_Vie/002.jpeg')\n",
    "img_gray = cv2.cvtColor(img, cv2.COLOR_BGR2GRAY)\n",
    "# cv2.namedWindow('original', cv2.WINDOW_NORMAL)\n",
    "# cv2.imshow('original', img)\n",
    "# cv2.waitKey(0)\n",
    "# cv2.destroyAllWindows()"
   ]
  },
  {
   "cell_type": "code",
   "execution_count": 3,
   "id": "95d0fd1c-2571-470a-a36c-72898df01594",
   "metadata": {},
   "outputs": [
    {
     "name": "stdout",
     "output_type": "stream",
     "text": [
      "Mai Hương QUẢN LÝ 123 Trần Nhật Duột, Hờ Nội www.trongwebhay.vn 0912 345 67890 xinchao@trongwebhgy.vn\n",
      "{'text': 'Mai Hương QUẢN LÝ 123 Trần Nhật Duột, Hờ Nội www.trongwebhay.vn 0912 345 67890 xinchao@trongwebhgy.vn', 'ents': [{'start': 0, 'end': 3, 'label': 'B-PHONE'}, {'start': 10, 'end': 14, 'label': 'B-WEB'}, {'start': 15, 'end': 17, 'label': 'I-EMAIL'}, {'start': 18, 'end': 21, 'label': 'B-PHONE'}, {'start': 22, 'end': 26, 'label': 'I-PHONE'}, {'start': 32, 'end': 37, 'label': 'I-ADDRESS'}, {'start': 41, 'end': 44, 'label': 'I-PHONE'}, {'start': 45, 'end': 63, 'label': 'B-WEB'}, {'start': 64, 'end': 68, 'label': 'B-PHONE'}, {'start': 69, 'end': 72, 'label': 'I-PHONE'}, {'start': 73, 'end': 78, 'label': 'I-PHONE'}, {'start': 79, 'end': 101, 'label': 'B-EMAIL'}], 'tokens': [{'id': 0, 'start': 0, 'end': 3}, {'id': 1, 'start': 4, 'end': 9}, {'id': 2, 'start': 10, 'end': 14}, {'id': 3, 'start': 15, 'end': 17}, {'id': 4, 'start': 18, 'end': 21}, {'id': 5, 'start': 22, 'end': 26}, {'id': 6, 'start': 27, 'end': 31}, {'id': 7, 'start': 32, 'end': 36}, {'id': 8, 'start': 36, 'end': 37}, {'id': 9, 'start': 38, 'end': 40}, {'id': 10, 'start': 41, 'end': 44}, {'id': 11, 'start': 45, 'end': 63}, {'id': 12, 'start': 64, 'end': 68}, {'id': 13, 'start': 69, 'end': 72}, {'id': 14, 'start': 73, 'end': 78}, {'id': 15, 'start': 79, 'end': 101}]}\n",
      "{'NAME': [], 'ORG': [], 'DES': [], 'PHONE': ['', '123', '', '091234567890'], 'EMAIL': ['l', 'xinchao@trongwebhgy.vn'], 'WEB': ['qun', 'www.trongwebhay.vn'], 'ADDRESS': ['Dut'], '': []}\n"
     ]
    }
   ],
   "source": [
    "img_results, entities = pred.getPredictions(img)\n",
    "print(entities)\n",
    "\n",
    "cv2.namedWindow('predictions', cv2.WINDOW_NORMAL)\n",
    "cv2.imshow('predictions', img_results)\n",
    "cv2.waitKey(0)\n",
    "cv2.destroyAllWindows()"
   ]
  },
  {
   "cell_type": "code",
   "execution_count": null,
   "id": "fbcbc593-bbf6-4ed4-bb14-17b57943372d",
   "metadata": {},
   "outputs": [],
   "source": []
  }
 ],
 "metadata": {
  "kernelspec": {
   "display_name": "Python 3 (ipykernel)",
   "language": "python",
   "name": "python3"
  },
  "language_info": {
   "codemirror_mode": {
    "name": "ipython",
    "version": 3
   },
   "file_extension": ".py",
   "mimetype": "text/x-python",
   "name": "python",
   "nbconvert_exporter": "python",
   "pygments_lexer": "ipython3",
   "version": "3.9.6"
  }
 },
 "nbformat": 4,
 "nbformat_minor": 5
}
