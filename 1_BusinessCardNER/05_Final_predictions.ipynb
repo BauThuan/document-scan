{
 "cells": [
  {
   "cell_type": "code",
   "execution_count": 13,
   "id": "df9da729-fcb9-45a0-b852-09cfdd677601",
   "metadata": {},
   "outputs": [],
   "source": [
    "import cv2\n",
    "import predictions as pred"
   ]
  },
  {
   "cell_type": "code",
   "execution_count": 22,
   "id": "e9888441-af64-469d-b1a0-6483292e37fb",
   "metadata": {},
   "outputs": [],
   "source": [
    "img = cv2.imread('./Selected_Vie/013.jpeg')\n",
    "img_gray = cv2.cvtColor(img, cv2.COLOR_BGR2GRAY)\n",
    "# cv2.namedWindow('original', cv2.WINDOW_NORMAL)\n",
    "# cv2.imshow('original', img)\n",
    "# cv2.waitKey(0)\n",
    "# cv2.destroyAllWindows()"
   ]
  },
  {
   "cell_type": "code",
   "execution_count": 23,
   "id": "95d0fd1c-2571-470a-a36c-72898df01594",
   "metadata": {},
   "outputs": [
    {
     "name": "stdout",
     "output_type": "stream",
     "text": [
      "{'text': 'Nhà hàng An Nam Món ngon không thể chối từ www.trangwebhay.vn ậ', 'ents': [{'start': 0, 'end': 3, 'label': 'B-ORG'}, {'start': 4, 'end': 8, 'label': 'I-ORG'}, {'start': 12, 'end': 15, 'label': 'B-PHONE'}, {'start': 43, 'end': 61, 'label': 'B-WEB'}], 'tokens': [{'id': 0, 'start': 0, 'end': 3}, {'id': 1, 'start': 4, 'end': 8}, {'id': 2, 'start': 9, 'end': 11}, {'id': 3, 'start': 12, 'end': 15}, {'id': 4, 'start': 16, 'end': 19}, {'id': 5, 'start': 20, 'end': 24}, {'id': 6, 'start': 25, 'end': 30}, {'id': 7, 'start': 31, 'end': 34}, {'id': 8, 'start': 35, 'end': 39}, {'id': 9, 'start': 40, 'end': 42}, {'id': 10, 'start': 43, 'end': 61}, {'id': 11, 'start': 62, 'end': 63}]}\n"
     ]
    }
   ],
   "source": [
    "img_results, entities = pred.getPredictions(img)\n",
    "cv2.namedWindow('predictions', cv2.WINDOW_NORMAL)\n",
    "cv2.imshow('predictions', img_results)\n",
    "cv2.waitKey(0)\n",
    "cv2.destroyAllWindows()"
   ]
  },
  {
   "cell_type": "code",
   "execution_count": null,
   "id": "6c560ab0-0174-4930-98d4-face5c002c81",
   "metadata": {},
   "outputs": [],
   "source": []
  },
  {
   "cell_type": "code",
   "execution_count": null,
   "id": "5836b744-1a62-4db8-aff3-2133aae56893",
   "metadata": {},
   "outputs": [],
   "source": []
  }
 ],
 "metadata": {
  "kernelspec": {
   "display_name": "Python 3 (ipykernel)",
   "language": "python",
   "name": "python3"
  },
  "language_info": {
   "codemirror_mode": {
    "name": "ipython",
    "version": 3
   },
   "file_extension": ".py",
   "mimetype": "text/x-python",
   "name": "python",
   "nbconvert_exporter": "python",
   "pygments_lexer": "ipython3",
   "version": "3.9.6"
  }
 },
 "nbformat": 4,
 "nbformat_minor": 5
}
