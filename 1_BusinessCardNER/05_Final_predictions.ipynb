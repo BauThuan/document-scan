{
 "cells": [
  {
   "cell_type": "code",
   "execution_count": 6,
   "id": "df9da729-fcb9-45a0-b852-09cfdd677601",
   "metadata": {},
   "outputs": [],
   "source": [
    "import cv2\n",
    "import predictions as pred"
   ]
  },
  {
   "cell_type": "code",
   "execution_count": 17,
   "id": "e9888441-af64-469d-b1a0-6483292e37fb",
   "metadata": {},
   "outputs": [],
   "source": [
    "img = cv2.imread('./Selected_Vie/097.jpeg')\n",
    "img_gray = cv2.cvtColor(img, cv2.COLOR_BGR2GRAY)\n",
    "# cv2.namedWindow('original', cv2.WINDOW_NORMAL)\n",
    "# cv2.imshow('original', img)\n",
    "# cv2.waitKey(0)\n",
    "# cv2.destroyAllWindows()"
   ]
  },
  {
   "cell_type": "code",
   "execution_count": null,
   "id": "95d0fd1c-2571-470a-a36c-72898df01594",
   "metadata": {},
   "outputs": [
    {
     "name": "stdout",
     "output_type": "stream",
     "text": [
      "{'text': 'j » vipharm vũ thị minh thu giám đốc ö 0904165245 thuoct1962@gmailcom vipharm co„ltd è 18/3 trung tả, khám thiên, đống đa, hà nội', 'ents': [{'start': 12, 'end': 14, 'label': 'B-NAME'}, {'start': 15, 'end': 18, 'label': 'I-NAME'}, {'start': 19, 'end': 23, 'label': 'I-NAME'}, {'start': 24, 'end': 27, 'label': 'I-NAME'}, {'start': 28, 'end': 32, 'label': 'B-DES'}, {'start': 33, 'end': 36, 'label': 'I-DES'}, {'start': 39, 'end': 49, 'label': 'B-PHONE'}, {'start': 50, 'end': 69, 'label': 'B-EMAIL'}, {'start': 70, 'end': 77, 'label': 'B-ORG'}, {'start': 78, 'end': 84, 'label': 'I-ORG'}, {'start': 87, 'end': 91, 'label': 'B-ADDRESS'}, {'start': 92, 'end': 97, 'label': 'B-ADDRESS'}, {'start': 98, 'end': 101, 'label': 'I-ADDRESS'}, {'start': 102, 'end': 106, 'label': 'I-ADDRESS'}, {'start': 107, 'end': 113, 'label': 'I-ADDRESS'}, {'start': 114, 'end': 118, 'label': 'I-ADDRESS'}, {'start': 119, 'end': 122, 'label': 'I-ADDRESS'}, {'start': 123, 'end': 125, 'label': 'I-ADDRESS'}, {'start': 126, 'end': 129, 'label': 'I-ADDRESS'}], 'tokens': [{'id': 0, 'start': 0, 'end': 1}, {'id': 1, 'start': 2, 'end': 3}, {'id': 2, 'start': 4, 'end': 11}, {'id': 3, 'start': 12, 'end': 14}, {'id': 4, 'start': 15, 'end': 18}, {'id': 5, 'start': 19, 'end': 23}, {'id': 6, 'start': 24, 'end': 27}, {'id': 7, 'start': 28, 'end': 32}, {'id': 8, 'start': 33, 'end': 36}, {'id': 9, 'start': 37, 'end': 38}, {'id': 10, 'start': 39, 'end': 49}, {'id': 11, 'start': 50, 'end': 69}, {'id': 12, 'start': 70, 'end': 77}, {'id': 13, 'start': 78, 'end': 84}, {'id': 14, 'start': 85, 'end': 86}, {'id': 15, 'start': 87, 'end': 91}, {'id': 16, 'start': 92, 'end': 97}, {'id': 17, 'start': 98, 'end': 100}, {'id': 18, 'start': 100, 'end': 101}, {'id': 19, 'start': 102, 'end': 106}, {'id': 20, 'start': 107, 'end': 112}, {'id': 21, 'start': 112, 'end': 113}, {'id': 22, 'start': 114, 'end': 118}, {'id': 23, 'start': 119, 'end': 121}, {'id': 24, 'start': 121, 'end': 122}, {'id': 25, 'start': 123, 'end': 125}, {'id': 26, 'start': 126, 'end': 129}]}\n",
      "{'NAME': ['Vũ Thị Minh Thu'], 'ORG': ['Vipharm Coltd'], 'DES': ['Giám Đốc'], 'PHONE': ['0904165245'], 'EMAIL': ['thuoct1962@gmailcom'], 'WEB': [], 'ADDRESS': ['18/3', 'TrungTảKhámThiênĐốngĐaHàNội'], '': []}\n"
     ]
    }
   ],
   "source": [
    "img_results, entities = pred.getPredictions(img)\n",
    "print(entities)\n",
    "cv2.namedWindow('predictions', cv2.WINDOW_NORMAL)\n",
    "cv2.imshow('predictions', img_results)\n",
    "cv2.waitKey(0)\n",
    "cv2.destroyAllWindows()"
   ]
  },
  {
   "cell_type": "code",
   "execution_count": null,
   "id": "a29eab80-6c5d-4309-a73a-1fca44abf971",
   "metadata": {},
   "outputs": [],
   "source": []
  }
 ],
 "metadata": {
  "kernelspec": {
   "display_name": "Python 3 (ipykernel)",
   "language": "python",
   "name": "python3"
  },
  "language_info": {
   "codemirror_mode": {
    "name": "ipython",
    "version": 3
   },
   "file_extension": ".py",
   "mimetype": "text/x-python",
   "name": "python",
   "nbconvert_exporter": "python",
   "pygments_lexer": "ipython3",
   "version": "3.9.6"
  }
 },
 "nbformat": 4,
 "nbformat_minor": 5
}
